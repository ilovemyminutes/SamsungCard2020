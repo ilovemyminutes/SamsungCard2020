{
 "cells": [
  {
   "cell_type": "markdown",
   "metadata": {},
   "source": [
    "# First Look\n",
    "## Naive Train: 가맹점 미이용 고객 vs 가맹점 이용 고객"
   ]
  },
  {
   "cell_type": "code",
   "execution_count": 17,
   "metadata": {},
   "outputs": [],
   "source": [
    "import os, glob\n",
    "\n",
    "import numpy as np\n",
    "import pandas as pd\n",
    "import seaborn as sns\n",
    "import missingno as msno\n",
    "import matplotlib.pyplot as plt\n",
    "import matplotlib.font_manager as fm\n",
    "import matplotlib as mpl\n",
    "\n",
    "plt.style.use('seaborn')\n",
    "plt.rcParams[\"font.family\"] = 'AppleSDGothicNeoSB00'\n",
    "mpl.rcParams['axes.unicode_minus'] = False"
   ]
  },
  {
   "cell_type": "code",
   "execution_count": 31,
   "metadata": {},
   "outputs": [],
   "source": [
    "numVAR = pd.read_csv('../data/processed/가맹점이용여부_유의미한VAR.csv')\n",
    "catVAR = ['VAR165', 'VAR066', 'VAR124', 'VAR107', 'VAR111']"
   ]
  },
  {
   "cell_type": "code",
   "execution_count": 23,
   "metadata": {
    "scrolled": false
   },
   "outputs": [
    {
     "name": "stdout",
     "output_type": "stream",
     "text": [
      "Load mrc_info\n",
      "Load samp_train\n",
      "Load samp_cst_feat\n",
      "Load variable_dtype\n"
     ]
    }
   ],
   "source": [
    "pathList = glob.glob('../data/provided/*')\n",
    "for idx, p in enumerate(pathList[:4]):\n",
    "    name = p.split(' ')[-1].split('.')[0]\n",
    "    print(f'Load {name}')\n",
    "    if idx < 3:\n",
    "        globals()[name] = pd.read_csv(p, engine='python')\n",
    "    else:\n",
    "        globals()[name] = pd.read_excel(p)"
   ]
  },
  {
   "cell_type": "markdown",
   "metadata": {},
   "source": [
    "### 학습 데이터 구축\n",
    "Problem Type: Binary(가맹점을 이용했는가(1), 이용하지 않았는가(0))"
   ]
  },
  {
   "cell_type": "code",
   "execution_count": 40,
   "metadata": {},
   "outputs": [],
   "source": [
    "train_raw = samp_cst_feat.merge(samp_train, how='left', on='cst_id_di').drop('cst_id_di', axis=1)\n",
    "train_raw.loc[train_raw['MRC_ID_DI']!=0, :] = 1\n",
    "\n",
    "# train_raw.to_csv('../data/processed/train_FranchiseOrNot.csv', index=False)"
   ]
  },
  {
   "cell_type": "code",
   "execution_count": 143,
   "metadata": {},
   "outputs": [],
   "source": [
    "from xgboost import XGBClassifier\n",
    "from sklearn.ensemble import RandomForestClassifier\n",
    "from sklearn.model_selection import KFold, GridSearchCV\n",
    "from sklearn.metrics import roc_auc_score\n",
    "\n",
    "\n",
    "class model:\n",
    "    def __init__(self, random_state=None):\n",
    "        if random_state is None:\n",
    "            self.random_state=42\n",
    "        return\n",
    "    \n",
    "    def getModel(self, estimator='xgb'):\n",
    "        if estimator == 'xgb':\n",
    "            self.estimator = estimator\n",
    "            self.model = XGBClassifier(random_state=self.random_state, n_jobs=-1)\n",
    "            self.params = self._getParams(estimator=estimator)\n",
    "            print('XGBoost loaded')\n",
    "    \n",
    "    def fit(self, X, y, k=3, optimize=False, verbose=0):\n",
    "        '''\n",
    "        X: pandas.core.frame.DataFrame\n",
    "        y: pandas.core.series.Series, numpy.ndarray, iterable object\n",
    "        '''\n",
    "        if optimize:\n",
    "            return self._trainCV(X=X, y=y, k=k, verbose=verbose)\n",
    "        else:\n",
    "            return self._train(X=X, y=y, k=k)\n",
    "    \n",
    "    def _train(self, X, y, k):\n",
    "        cv = KFold(n_splits=k, random_state=self.random_state, shuffle=True)\n",
    "        AUC_list = []\n",
    "        for train_idx, valid_idx in cv.split(X):\n",
    "            X_train, X_valid = X.iloc[train_idx, :], X.iloc[valid_idx, :]\n",
    "            y_train, y_valid = y.iloc[train_idx], y.iloc[valid_idx]\n",
    "            self.model.fit(X_train, y_train)\n",
    "            AUC_list.append(\n",
    "                roc_auc_score(\n",
    "                    y_true=y_valid, \n",
    "                    y_score=self.model.predict_proba(X_valid)[:, 1]))\n",
    "            \n",
    "        print('mean of AUROC:', np.mean(AUC_list))\n",
    "        self.score = np.mean(AUC_list)\n",
    "        self.score_list = AUC_list\n",
    "        self.model.fit(X, y)\n",
    "        return self.model\n",
    "    \n",
    "    def _trainCV(self, X, y, k, verbose=0):\n",
    "        cv = KFold(n_splits=k, random_state=self.random_state, shuffle=True)\n",
    "        gridCV = GridSearchCV(self.model, param_grid=self.params, \n",
    "                              cv=cv, scoring='roc_auc', verbose=verbose)\n",
    "        gridCV.fit(X, y)\n",
    "        \n",
    "        print(f'best params of {self.estimator}:', gridCV.best_params_)\n",
    "        print(f'best AUROC of {self.estimator}:', gridCV.best_score_)\n",
    "        return gridCV.best_estimator_\n",
    "        \n",
    "    def _getParams(self, estimator='xgb'):\n",
    "        param_tank = {'xgb': {'booster': ['gbtree'], \n",
    "                              'learning_rate': list(np.round(np.linspace(0, 0.2, 9)[1:], 3)), \n",
    "                              'gamma': [3, 4, 5], \n",
    "                              'colsample_bytree': [0.5+0.1*i for i in range(4)],\n",
    "                              'max_depth':[6,7,8], \n",
    "                              'subsample': [0.6+0.1*i for i in range(4)]}}\n",
    "        return param_tank[estimator]"
   ]
  },
  {
   "cell_type": "code",
   "execution_count": null,
   "metadata": {},
   "outputs": [],
   "source": [
    "class DataGenerator:\n",
    "    def __init__(self):\n",
    "        pass\n",
    "    def drop_features(self, drops=None): # mutable 변수를 초기값으로 넣는 것은 일반적으로 좋지 않음\n",
    "        if drops == None:\n",
    "            self.data.drop([\"pr7\", \"pr10\", \"pr11\", \"pr12\", \"pr15\", \"pr16\"], axis=1, inplace=True)\n",
    "        elif len(drops) == 0:\n",
    "            pass\n",
    "        else:\n",
    "            self.data.drop(drops, axis=1, inplace=True)\n",
    "        return self.data\n",
    "\n",
    "    def mean_encoding(self, option=None, drop=False): \n",
    "        if option is not None:\n",
    "            feature_list = self.fts_dic[option]\n",
    "            if option == \"g\" or option == \"s\":\n",
    "                name_list = []\n",
    "                for fts in feature_list:\n",
    "                    name = f\"mean_encoding_{fts}\"\n",
    "                    name_list.append(name)\n",
    "                    temp = (\n",
    "                        self.data.groupby([fts])\n",
    "                        .mean()[\"payed\"]\n",
    "                        .to_frame(name)\n",
    "                        .reset_index()\n",
    "                    )\n",
    "                    self.data = pd.merge(self.data, temp, on=fts, how=\"left\")\n",
    "                self.data[f\"mean_encoding_{option}\"] = self.data[\n",
    "                    self.data.columns[\n",
    "                        self.data.columns.str.startswith(f\"mean_encoding_{option}\")\n",
    "                    ].tolist()\n",
    "                ].mean(axis=1)\n",
    "                if drop:\n",
    "                    self.data.drop(name_list, axis=1, inplace=True)\n",
    "            else:\n",
    "                name_list = []\n",
    "                for fts in feature_list:\n",
    "                    name_list.append(fts)\n",
    "                    temp = (\n",
    "                        self.data.groupby([fts])\n",
    "                        .mean()[\"payed\"]\n",
    "                        .to_frame(f\"mean_encoding_{fts}\")\n",
    "                        .reset_index()\n",
    "                    )\n",
    "                    self.data = pd.merge(self.data, temp, on=fts, how=\"left\")\n",
    "                if drop:\n",
    "                    self.data.drop(name_list, axis=1, inplace=True)\n",
    "        return self.data"
   ]
  },
  {
   "cell_type": "code",
   "execution_count": 145,
   "metadata": {},
   "outputs": [
    {
     "name": "stdout",
     "output_type": "stream",
     "text": [
      "XGBoost loaded\n",
      "mean of AUROC: 1.0\n"
     ]
    },
    {
     "data": {
      "text/plain": [
       "XGBClassifier(base_score=0.5, booster='gbtree', colsample_bylevel=1,\n",
       "              colsample_bynode=1, colsample_bytree=1, gamma=0, gpu_id=-1,\n",
       "              importance_type='gain', interaction_constraints='',\n",
       "              learning_rate=0.300000012, max_delta_step=0, max_depth=6,\n",
       "              min_child_weight=1, missing=nan, monotone_constraints='()',\n",
       "              n_estimators=100, n_jobs=-1, num_parallel_tree=1, random_state=42,\n",
       "              reg_alpha=0, reg_lambda=1, scale_pos_weight=1, subsample=1,\n",
       "              tree_method='exact', validate_parameters=1, verbosity=None)"
      ]
     },
     "execution_count": 145,
     "metadata": {},
     "output_type": "execute_result"
    }
   ],
   "source": [
    "MOD = model()\n",
    "MOD.getModel(estimator='xgb')\n",
    "\n",
    "X = train_raw.drop('MRC_ID_DI', axis=1)\n",
    "y = train_raw['MRC_ID_DI']\n",
    "MOD.fit(X=X, y=y, optimize=False, k=10)"
   ]
  }
 ],
 "metadata": {
  "kernelspec": {
   "display_name": "Python 3",
   "language": "python",
   "name": "python3"
  },
  "language_info": {
   "codemirror_mode": {
    "name": "ipython",
    "version": 3
   },
   "file_extension": ".py",
   "mimetype": "text/x-python",
   "name": "python",
   "nbconvert_exporter": "python",
   "pygments_lexer": "ipython3",
   "version": "3.7.6"
  },
  "toc": {
   "base_numbering": 1,
   "nav_menu": {},
   "number_sections": true,
   "sideBar": true,
   "skip_h1_title": false,
   "title_cell": "Table of Contents",
   "title_sidebar": "Contents",
   "toc_cell": false,
   "toc_position": {},
   "toc_section_display": true,
   "toc_window_display": false
  },
  "varInspector": {
   "cols": {
    "lenName": 16,
    "lenType": 16,
    "lenVar": 40
   },
   "kernels_config": {
    "python": {
     "delete_cmd_postfix": "",
     "delete_cmd_prefix": "del ",
     "library": "var_list.py",
     "varRefreshCmd": "print(var_dic_list())"
    },
    "r": {
     "delete_cmd_postfix": ") ",
     "delete_cmd_prefix": "rm(",
     "library": "var_list.r",
     "varRefreshCmd": "cat(var_dic_list()) "
    }
   },
   "types_to_exclude": [
    "module",
    "function",
    "builtin_function_or_method",
    "instance",
    "_Feature"
   ],
   "window_display": false
  }
 },
 "nbformat": 4,
 "nbformat_minor": 4
}
