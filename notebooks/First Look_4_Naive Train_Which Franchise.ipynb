{
 "cells": [
  {
   "cell_type": "markdown",
   "metadata": {},
   "source": [
    "# First Look\n",
    "## Naive Train: 가맹점을 이용한 고객은 어떤 가맹점을 사용하는가"
   ]
  },
  {
   "cell_type": "code",
   "execution_count": 2,
   "metadata": {},
   "outputs": [],
   "source": [
    "import os, glob\n",
    "\n",
    "import numpy as np\n",
    "import pandas as pd\n",
    "import seaborn as sns\n",
    "import missingno as msno\n",
    "import matplotlib.pyplot as plt\n",
    "import matplotlib.font_manager as fm\n",
    "import matplotlib as mpl\n",
    "\n",
    "plt.style.use('seaborn')\n",
    "plt.rcParams[\"font.family\"] = 'AppleSDGothicNeoSB00'\n",
    "mpl.rcParams['axes.unicode_minus'] = False"
   ]
  },
  {
   "cell_type": "code",
   "execution_count": 3,
   "metadata": {},
   "outputs": [
    {
     "name": "stdout",
     "output_type": "stream",
     "text": [
      "Load mrc_info\n",
      "Load samp_train\n",
      "Load samp_cst_feat\n",
      "Load variable_dtype\n"
     ]
    }
   ],
   "source": [
    "pathList = glob.glob('../data/provided/*')\n",
    "for idx, p in enumerate(pathList[:4]):\n",
    "    name = p.split(' ')[-1].split('.')[0]\n",
    "    print(f'Load {name}')\n",
    "    if idx < 3:\n",
    "        globals()[name] = pd.read_csv(p, engine='python')\n",
    "    else:\n",
    "        globals()[name] = pd.read_excel(p)"
   ]
  },
  {
   "cell_type": "code",
   "execution_count": 5,
   "metadata": {},
   "outputs": [],
   "source": [
    "def getCustomerGroup(group, complement=False):\n",
    "    '''\n",
    "    특정 가맹점을 이용한 고객만을 추려내는 함수\n",
    "    group: list, 가맹점 번호가 성분임\n",
    "    complement: boolean, 입력한 group에 해당하지 않는 고객을 가져올 경우 True\n",
    "    ---\n",
    "    Return: 고객ID 시리즈\n",
    "    '''\n",
    "    return (samp_train[~samp_train['MRC_ID_DI'].isin(group)]['cst_id_di'].tolist() if complement \n",
    "            else samp_train[samp_train['MRC_ID_DI'].isin(group)]['cst_id_di'].tolist())"
   ]
  },
  {
   "cell_type": "code",
   "execution_count": 11,
   "metadata": {},
   "outputs": [],
   "source": [
    "train_raw = samp_cst_feat[\n",
    "    samp_cst_feat['cst_id_di']\n",
    "    .isin(getCustomerGroup(group=[0], complement=True))\n",
    "]\n",
    "\n",
    "train_raw = train_raw.merge(samp_train, how='left', on='cst_id_di').drop('cst_id_di', axis=1)"
   ]
  },
  {
   "cell_type": "code",
   "execution_count": 13,
   "metadata": {},
   "outputs": [],
   "source": [
    "from xgboost import XGBClassifier\n",
    "from sklearn.ensemble import RandomForestClassifier\n",
    "from sklearn.model_selection import KFold, GridSearchCV\n",
    "from sklearn.metrics import roc_auc_score\n",
    "\n",
    "\n",
    "class model:\n",
    "    def __init__(self, random_state=None):\n",
    "        if random_state is None:\n",
    "            self.random_state=42\n",
    "        return\n",
    "    \n",
    "    def getModel(self, estimator='xgb'):\n",
    "        if estimator == 'xgb':\n",
    "            self.estimator = estimator\n",
    "            self.model = XGBClassifier(random_state=self.random_state, n_jobs=-1)\n",
    "            self.params = self._getParams(estimator=estimator)\n",
    "            print('XGBoost loaded')\n",
    "    \n",
    "    def fit(self, X, y, k=3, optimize=False, verbose=0):\n",
    "        '''\n",
    "        X: pandas.core.frame.DataFrame\n",
    "        y: pandas.core.series.Series, numpy.ndarray, iterable object\n",
    "        '''\n",
    "        if optimize:\n",
    "            return self._trainCV(X=X, y=y, k=k, verbose=verbose)\n",
    "        else:\n",
    "            return self._train(X=X, y=y, k=k)\n",
    "    \n",
    "    def _train(self, X, y, k):\n",
    "        cv = KFold(n_splits=k, random_state=self.random_state, shuffle=True)\n",
    "        AUC_list = []\n",
    "        for train_idx, valid_idx in cv.split(X):\n",
    "            X_train, X_valid = X.iloc[train_idx, :], X.iloc[valid_idx, :]\n",
    "            y_train, y_valid = y.iloc[train_idx], y.iloc[valid_idx]\n",
    "            self.model.fit(X_train, y_train)\n",
    "            AUC_list.append(\n",
    "                roc_auc_score(\n",
    "                    y_true=y_valid, \n",
    "                    y_score=self.model.predict_proba(X_valid)[:, 1]))\n",
    "            \n",
    "        print('mean of AUROC:', np.mean(AUC_list))\n",
    "        self.score = np.mean(AUC_list)\n",
    "        self.score_list = AUC_list\n",
    "        self.model.fit(X, y)\n",
    "        return self.model\n",
    "    \n",
    "    def _trainCV(self, X, y, k, verbose=0):\n",
    "        cv = KFold(n_splits=k, random_state=self.random_state, shuffle=True)\n",
    "        gridCV = GridSearchCV(self.model, param_grid=self.params, \n",
    "                              cv=cv, scoring='roc_auc', verbose=verbose)\n",
    "        gridCV.fit(X, y)\n",
    "        \n",
    "        print(f'best params of {self.estimator}:', gridCV.best_params_)\n",
    "        print(f'best AUROC of {self.estimator}:', gridCV.best_score_)\n",
    "        return gridCV.best_estimator_\n",
    "        \n",
    "    def _getParams(self, estimator='xgb'):\n",
    "        param_tank = {'xgb': {'booster': ['gbtree'], \n",
    "                              'learning_rate': list(np.round(np.linspace(0, 0.2, 9)[1:], 3)), \n",
    "                              'gamma': [3, 4, 5], \n",
    "                              'colsample_bytree': [0.5+0.1*i for i in range(4)],\n",
    "                              'max_depth':[6,7,8], \n",
    "                              'subsample': [0.6+0.1*i for i in range(4)]}}\n",
    "        return param_tank[estimator]"
   ]
  }
 ],
 "metadata": {
  "kernelspec": {
   "display_name": "Python 3",
   "language": "python",
   "name": "python3"
  },
  "language_info": {
   "codemirror_mode": {
    "name": "ipython",
    "version": 3
   },
   "file_extension": ".py",
   "mimetype": "text/x-python",
   "name": "python",
   "nbconvert_exporter": "python",
   "pygments_lexer": "ipython3",
   "version": "3.7.6"
  },
  "toc": {
   "base_numbering": 1,
   "nav_menu": {},
   "number_sections": true,
   "sideBar": true,
   "skip_h1_title": false,
   "title_cell": "Table of Contents",
   "title_sidebar": "Contents",
   "toc_cell": false,
   "toc_position": {},
   "toc_section_display": true,
   "toc_window_display": false
  },
  "varInspector": {
   "cols": {
    "lenName": 16,
    "lenType": 16,
    "lenVar": 40
   },
   "kernels_config": {
    "python": {
     "delete_cmd_postfix": "",
     "delete_cmd_prefix": "del ",
     "library": "var_list.py",
     "varRefreshCmd": "print(var_dic_list())"
    },
    "r": {
     "delete_cmd_postfix": ") ",
     "delete_cmd_prefix": "rm(",
     "library": "var_list.r",
     "varRefreshCmd": "cat(var_dic_list()) "
    }
   },
   "types_to_exclude": [
    "module",
    "function",
    "builtin_function_or_method",
    "instance",
    "_Feature"
   ],
   "window_display": false
  }
 },
 "nbformat": 4,
 "nbformat_minor": 4
}
