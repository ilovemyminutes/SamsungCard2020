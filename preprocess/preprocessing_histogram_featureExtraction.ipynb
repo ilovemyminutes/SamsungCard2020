{
 "cells": [
  {
   "cell_type": "markdown",
   "metadata": {},
   "source": [
    "# Feature Extraction Using Histogram\n",
    "히스토그램을 활용해서 각 가맹점 별 변수 분포를 알아보고자 한다  \n",
    "유의미한 결과가 나올 경우, 기존 피쳐를 수정하거나 새롭게 추가함"
   ]
  },
  {
   "cell_type": "code",
   "execution_count": 604,
   "metadata": {},
   "outputs": [],
   "source": [
    "import os\n",
    "import glob\n",
    "\n",
    "import pandas as pd\n",
    "import numpy as np\n",
    "import matplotlib.pyplot as plt\n",
    "import seaborn as sns\n",
    "\n",
    "import matplotlib as mpl\n",
    "import matplotlib.pyplot as plt\n",
    "import matplotlib.font_manager as fm\n",
    "\n",
    "pd.set_option('display.max_rows', 100)\n",
    "# path = 'c:/windows/fonts\\\\NanumGothic.ttf'\n",
    "# path = 'malgungothic'\n",
    "mpl.rcParams['axes.unicode_minus'] = False\n",
    "plt.rcParams[\"font.family\"] = path\n",
    "plt.style.use('seaborn')"
   ]
  },
  {
   "cell_type": "code",
   "execution_count": 605,
   "metadata": {},
   "outputs": [
    {
     "name": "stdout",
     "output_type": "stream",
     "text": [
      "Load mrc_info\n",
      "Load samp_train\n",
      "Load samp_cst_feat\n",
      "Load variable_dtype\n"
     ]
    }
   ],
   "source": [
    "pathList = glob.glob('../raw/*')\n",
    "for idx, p in enumerate(pathList[:4]):\n",
    "    name = p.split(' ')[-1].split('.')[0]\n",
    "    print(f'Load {name}')\n",
    "    if idx < 3:\n",
    "        globals()[name] = pd.read_csv(p, engine='python')\n",
    "    else:\n",
    "        globals()[name] = pd.read_excel(p)"
   ]
  },
  {
   "cell_type": "code",
   "execution_count": 606,
   "metadata": {
    "scrolled": false
   },
   "outputs": [
    {
     "data": {
      "text/html": [
       "<div>\n",
       "<style scoped>\n",
       "    .dataframe tbody tr th:only-of-type {\n",
       "        vertical-align: middle;\n",
       "    }\n",
       "\n",
       "    .dataframe tbody tr th {\n",
       "        vertical-align: top;\n",
       "    }\n",
       "\n",
       "    .dataframe thead th {\n",
       "        text-align: right;\n",
       "    }\n",
       "</style>\n",
       "<table border=\"1\" class=\"dataframe\">\n",
       "  <thead>\n",
       "    <tr style=\"text-align: right;\">\n",
       "      <th></th>\n",
       "      <th>cst_id_di</th>\n",
       "      <th>VAR002</th>\n",
       "      <th>VAR003</th>\n",
       "      <th>VAR004</th>\n",
       "      <th>VAR005</th>\n",
       "      <th>VAR006</th>\n",
       "      <th>VAR007</th>\n",
       "      <th>VAR008</th>\n",
       "      <th>VAR009</th>\n",
       "      <th>VAR010</th>\n",
       "      <th>...</th>\n",
       "      <th>VAR219</th>\n",
       "      <th>VAR220</th>\n",
       "      <th>VAR221</th>\n",
       "      <th>VAR222</th>\n",
       "      <th>VAR223</th>\n",
       "      <th>VAR224</th>\n",
       "      <th>VAR225</th>\n",
       "      <th>VAR226</th>\n",
       "      <th>VAR227</th>\n",
       "      <th>MRC_ID_DI</th>\n",
       "    </tr>\n",
       "  </thead>\n",
       "  <tbody>\n",
       "    <tr>\n",
       "      <th>0</th>\n",
       "      <td>90000000089</td>\n",
       "      <td>-0.06610</td>\n",
       "      <td>0.5280</td>\n",
       "      <td>-0.13607</td>\n",
       "      <td>0.10945</td>\n",
       "      <td>0.06557</td>\n",
       "      <td>0</td>\n",
       "      <td>0.7702</td>\n",
       "      <td>-0.18965</td>\n",
       "      <td>0.1981</td>\n",
       "      <td>...</td>\n",
       "      <td>0.19113</td>\n",
       "      <td>0.05449</td>\n",
       "      <td>0.09471</td>\n",
       "      <td>0.27091</td>\n",
       "      <td>0.01931</td>\n",
       "      <td>0.02938</td>\n",
       "      <td>0.17105</td>\n",
       "      <td>0.12537</td>\n",
       "      <td>0.22197</td>\n",
       "      <td>0</td>\n",
       "    </tr>\n",
       "    <tr>\n",
       "      <th>1</th>\n",
       "      <td>90000000176</td>\n",
       "      <td>-0.09537</td>\n",
       "      <td>0.1347</td>\n",
       "      <td>-0.13541</td>\n",
       "      <td>0.17331</td>\n",
       "      <td>-0.19657</td>\n",
       "      <td>0</td>\n",
       "      <td>0.0616</td>\n",
       "      <td>-0.23104</td>\n",
       "      <td>0.4940</td>\n",
       "      <td>...</td>\n",
       "      <td>0.19437</td>\n",
       "      <td>0.06538</td>\n",
       "      <td>0.16309</td>\n",
       "      <td>0.30207</td>\n",
       "      <td>0.06053</td>\n",
       "      <td>-0.01107</td>\n",
       "      <td>0.12413</td>\n",
       "      <td>0.29702</td>\n",
       "      <td>-0.31717</td>\n",
       "      <td>8</td>\n",
       "    </tr>\n",
       "    <tr>\n",
       "      <th>2</th>\n",
       "      <td>90000000210</td>\n",
       "      <td>-0.01048</td>\n",
       "      <td>0.8360</td>\n",
       "      <td>0.37797</td>\n",
       "      <td>-0.10970</td>\n",
       "      <td>0.52032</td>\n",
       "      <td>1</td>\n",
       "      <td>0.3257</td>\n",
       "      <td>0.32632</td>\n",
       "      <td>0.7343</td>\n",
       "      <td>...</td>\n",
       "      <td>-0.52084</td>\n",
       "      <td>-0.18568</td>\n",
       "      <td>-0.09755</td>\n",
       "      <td>-0.56565</td>\n",
       "      <td>-0.17840</td>\n",
       "      <td>-0.06314</td>\n",
       "      <td>-0.17111</td>\n",
       "      <td>-0.32239</td>\n",
       "      <td>0.33962</td>\n",
       "      <td>0</td>\n",
       "    </tr>\n",
       "  </tbody>\n",
       "</table>\n",
       "<p>3 rows × 228 columns</p>\n",
       "</div>"
      ],
      "text/plain": [
       "     cst_id_di   VAR002  VAR003   VAR004   VAR005   VAR006  VAR007  VAR008  \\\n",
       "0  90000000089 -0.06610  0.5280 -0.13607  0.10945  0.06557       0  0.7702   \n",
       "1  90000000176 -0.09537  0.1347 -0.13541  0.17331 -0.19657       0  0.0616   \n",
       "2  90000000210 -0.01048  0.8360  0.37797 -0.10970  0.52032       1  0.3257   \n",
       "\n",
       "    VAR009  VAR010  ...   VAR219   VAR220   VAR221   VAR222   VAR223   VAR224  \\\n",
       "0 -0.18965  0.1981  ...  0.19113  0.05449  0.09471  0.27091  0.01931  0.02938   \n",
       "1 -0.23104  0.4940  ...  0.19437  0.06538  0.16309  0.30207  0.06053 -0.01107   \n",
       "2  0.32632  0.7343  ... -0.52084 -0.18568 -0.09755 -0.56565 -0.17840 -0.06314   \n",
       "\n",
       "    VAR225   VAR226   VAR227  MRC_ID_DI  \n",
       "0  0.17105  0.12537  0.22197          0  \n",
       "1  0.12413  0.29702 -0.31717          8  \n",
       "2 -0.17111 -0.32239  0.33962          0  \n",
       "\n",
       "[3 rows x 228 columns]"
      ]
     },
     "execution_count": 606,
     "metadata": {},
     "output_type": "execute_result"
    }
   ],
   "source": [
    "train_raw = samp_cst_feat.merge(samp_train, how='left', on='cst_id_di')\n",
    "train_raw.head(3)"
   ]
  },
  {
   "cell_type": "markdown",
   "metadata": {},
   "source": [
    "## 각 가맹점별 히스토그램\n",
    "가맹점별로 히스토그램을 그려본다"
   ]
  },
  {
   "cell_type": "code",
   "execution_count": 620,
   "metadata": {},
   "outputs": [],
   "source": [
    "def histForEachFranchise(var_num, franchise_group=None, bins=10, margin=0.3):\n",
    "    '''궁금한 VAR변수에 대하여 각 프렌차이즈 점 별로 히스토그램 시각화\n",
    "    var_num: integer, VAR 번호\n",
    "    franchise_group: list, 관찰할 가맹점 번호. 입력하지 않으면 전체 가맹점 관찰\n",
    "    margin: float in range 0 to 1, 시각화 결과가 더 잘 보이도록 마진 값 지정'''\n",
    "    var = 'VAR' + str(var_num).zfill(3)\n",
    "    plt.figure(figsize=(10,6))\n",
    "    maxValue, minValue = train_raw[var].max(), train_raw[var].min()\n",
    "    if franchise_group:\n",
    "        for i in franchise_group:\n",
    "            sns.distplot(getFranchise(i)[var], \n",
    "                         label=f'Franchise {i}, {getFranchise(i)[var].shape[0]} samples', \n",
    "                         bins=bins)\n",
    "        plt.xlim(minValue - abs(minValue*margin), maxValue + abs(maxValue*margin))\n",
    "        plt.legend()\n",
    "        plt.suptitle(f'Histogram of {var}')\n",
    "        plt.show()\n",
    "    else:\n",
    "        for i in range(1,11):\n",
    "            sns.distplot(getFranchise(i)[var], \n",
    "                         label=f'Franchise {i}, {getFranchise(i)[var].shape[0]} samples',\n",
    "                         bins=bins)\n",
    "        plt.xlim(minValue - abs(minValue*margin), maxValue + abs(maxValue*margin))\n",
    "        plt.legend()\n",
    "        plt.suptitle(f'Histogram of {var}')\n",
    "        plt.show()\n",
    "        \n",
    "def getCustomerGroup(group, complement=False):\n",
    "    '''\n",
    "    특정 가맹점을 이용한 고객의 고객식별번호를 리턴\n",
    "    group: list, 가맹점 번호가 성분임\n",
    "    complement: boolean, 입력한 group에 해당하지 않는 고객(여집합)을 가져올 경우 True\n",
    "    ---\n",
    "    Return: 고객ID list\n",
    "    '''\n",
    "    return (samp_train[~samp_train['MRC_ID_DI'].isin(group)]['cst_id_di'].tolist() if complement \n",
    "            else samp_train[samp_train['MRC_ID_DI'].isin(group)]['cst_id_di'].tolist())\n",
    "\n",
    "def getFranchise(num, data=None, reset_index=False):\n",
    "    '''특정 가맹점을 방문한 고객에 대한 데이터만 추출'''\n",
    "    if data is None:\n",
    "        data = train_raw\n",
    "    if isinstance(num, int):\n",
    "        idx = getCustomerGroup(group=[num])\n",
    "    else:\n",
    "        idx = getCustomerGroup(group=num)\n",
    "    if reset_index:\n",
    "         return data[data['cst_id_di'].isin(idx)].reset_index(drop=True)\n",
    "    return data[data['cst_id_di'].isin(idx)]"
   ]
  },
  {
   "cell_type": "code",
   "execution_count": 622,
   "metadata": {
    "scrolled": false
   },
   "outputs": [
    {
     "data": {
      "image/png": "[encoded data removed]",
      "text/plain": [
       "<Figure size 720x432 with 1 Axes>"
      ]
     },
     "metadata": {},
     "output_type": "display_data"
    }
   ],
   "source": [
    "histForEachFranchise(var_num=4, franchise_group=range(11), margin=0.1, bins=11)"
   ]
  },
  {
   "cell_type": "markdown",
   "metadata": {},
   "source": [
    "예상보다 모두 비슷한 곳에 뭉쳐있어 눈에 띄는 구분이 어렵고, 해당 VAR 변수에서 가맹점별로 특별한 차이가 보이는지 확인하기 어려움  \n",
    "구간을 나누었을 때, 가장 빈도가 많이 나온 구간을 기준으로도 확인해보자"
   ]
  },
  {
   "cell_type": "code",
   "execution_count": 623,
   "metadata": {},
   "outputs": [],
   "source": [
    "def topFreq(var_num, franchise_group, bins=10, top=1):\n",
    "    '''어떤 가맹점에 대하여 특정 VAR의 높은 빈도 구간을 리턴'''\n",
    "    var = 'VAR' + str(var_num).zfill(3)\n",
    "    hist, bins = np.histogram(getFranchise(num=franchise_group, reset_index=True)[var])\n",
    "    \n",
    "    if top > 1:\n",
    "        sort_idx = np.argsort(-hist)[:top]\n",
    "        bins_list = []\n",
    "        for idx in sort_idx:\n",
    "            bins_list.append(bins[[idx, idx+1]])\n",
    "        return bins_list\n",
    "    else:\n",
    "        argmax = np.argmax(hist)\n",
    "        return bins[[argmax, argmax+1]]\n",
    "    \n",
    "    \n",
    "# def getInterval(var_num, franchise_group, bins=10, top=1):\n",
    "#     var = 'VAR' + str(var_num).zfill(3)\n",
    "#     if isinstance(franchise_group, list) and len(franchise_group) >= 2:\n",
    "#         for f in franchise_group:\n",
    "#             topFreq(var, f, bins=bins, top=top)"
   ]
  },
  {
   "cell_type": "markdown",
   "metadata": {},
   "source": [
    "딱히 좋은 기준이 될 것 같지 않음. 일단 보류"
   ]
  },
  {
   "cell_type": "markdown",
   "metadata": {},
   "source": [
    "### 시각적 개선 및 합리적 기준 마련\n",
    "동등하게 구간을 나누어서 구간별로 빈도의 감소 정도를 살펴보는 것도 가치가 있을 듯"
   ]
  },
  {
   "cell_type": "markdown",
   "metadata": {},
   "source": [
    "#### 전체 데이터 내 각 가맹점별 비율(Density)"
   ]
  },
  {
   "cell_type": "code",
   "execution_count": 610,
   "metadata": {},
   "outputs": [
    {
     "data": {
      "text/html": [
       "<div>\n",
       "<style scoped>\n",
       "    .dataframe tbody tr th:only-of-type {\n",
       "        vertical-align: middle;\n",
       "    }\n",
       "\n",
       "    .dataframe tbody tr th {\n",
       "        vertical-align: top;\n",
       "    }\n",
       "\n",
       "    .dataframe thead th {\n",
       "        text-align: right;\n",
       "    }\n",
       "</style>\n",
       "<table border=\"1\" class=\"dataframe\">\n",
       "  <thead>\n",
       "    <tr style=\"text-align: right;\">\n",
       "      <th></th>\n",
       "      <th>MRC_ID_DI</th>\n",
       "      <th>Freq</th>\n",
       "    </tr>\n",
       "  </thead>\n",
       "  <tbody>\n",
       "    <tr>\n",
       "      <th>0</th>\n",
       "      <td>0</td>\n",
       "      <td>8200</td>\n",
       "    </tr>\n",
       "    <tr>\n",
       "      <th>1</th>\n",
       "      <td>7</td>\n",
       "      <td>661</td>\n",
       "    </tr>\n",
       "    <tr>\n",
       "      <th>2</th>\n",
       "      <td>6</td>\n",
       "      <td>554</td>\n",
       "    </tr>\n",
       "    <tr>\n",
       "      <th>3</th>\n",
       "      <td>8</td>\n",
       "      <td>337</td>\n",
       "    </tr>\n",
       "    <tr>\n",
       "      <th>4</th>\n",
       "      <td>5</td>\n",
       "      <td>143</td>\n",
       "    </tr>\n",
       "    <tr>\n",
       "      <th>5</th>\n",
       "      <td>1</td>\n",
       "      <td>85</td>\n",
       "    </tr>\n",
       "    <tr>\n",
       "      <th>6</th>\n",
       "      <td>9</td>\n",
       "      <td>59</td>\n",
       "    </tr>\n",
       "    <tr>\n",
       "      <th>7</th>\n",
       "      <td>3</td>\n",
       "      <td>32</td>\n",
       "    </tr>\n",
       "    <tr>\n",
       "      <th>8</th>\n",
       "      <td>10</td>\n",
       "      <td>28</td>\n",
       "    </tr>\n",
       "    <tr>\n",
       "      <th>9</th>\n",
       "      <td>2</td>\n",
       "      <td>14</td>\n",
       "    </tr>\n",
       "    <tr>\n",
       "      <th>10</th>\n",
       "      <td>4</td>\n",
       "      <td>11</td>\n",
       "    </tr>\n",
       "  </tbody>\n",
       "</table>\n",
       "</div>"
      ],
      "text/plain": [
       "    MRC_ID_DI  Freq\n",
       "0           0  8200\n",
       "1           7   661\n",
       "2           6   554\n",
       "3           8   337\n",
       "4           5   143\n",
       "5           1    85\n",
       "6           9    59\n",
       "7           3    32\n",
       "8          10    28\n",
       "9           2    14\n",
       "10          4    11"
      ]
     },
     "metadata": {},
     "output_type": "display_data"
    },
    {
     "name": "stdout",
     "output_type": "stream",
     "text": [
      "가맹점 별 Frequency {0: 8200, 7: 661, 6: 554, 8: 337, 5: 143, 1: 85, 9: 59, 3: 32, 10: 28, 2: 14, 4: 11}\n"
     ]
    }
   ],
   "source": [
    "frequency_table = (train_raw['MRC_ID_DI']\n",
    "        .value_counts()\n",
    "        .to_frame('Freq')\n",
    "        .reset_index()\n",
    "        .rename({'index': 'MRC_ID_DI'}, axis=1))\n",
    "display(frequency_table)\n",
    "\n",
    "frenchiseFreq = {row['MRC_ID_DI']:row['Freq'] \n",
    "                 for _, row in frequency_table.iterrows()}\n",
    "print('가맹점 별 Frequency', frenchiseFreq)"
   ]
  },
  {
   "cell_type": "markdown",
   "metadata": {},
   "source": [
    "#### 위에서 구한 비율에 기반한 각 가맹점별 비율\n",
    "전체 데이터에 대하여 나누어둔 구간을 바탕으로, 구간 마다 각 가맹점의 Density를 확인한다  \n",
    "각 구간마다 유달리 Density가 높은 가맹점이 있으면, 그 가맹점의 특징이라고 볼 수 있겠지  \n",
    "또한, 시각적인 확인에는 한계가 있으니, 수치적인 기준을 가지고 전체 VAR 변수들에 대해 일반화된 preprocessing을 고민해봐야 함"
   ]
  },
  {
   "cell_type": "code",
   "execution_count": 616,
   "metadata": {},
   "outputs": [],
   "source": [
    "def showFranchiseDensity(var_num, bins=11, data=None, franchise_group=None, figsize=(16,6)):\n",
    "    if data is None:\n",
    "        data = train_raw.copy()\n",
    "    if franchise_group is None:\n",
    "        franchise_group = [i for i in range(11)]\n",
    "    var = 'VAR' + str(var_num).zfill(3)\n",
    "    partial = data[[var, 'MRC_ID_DI']]\n",
    "    hist, quantiles =  np.histogram(partial.iloc[:, 0], bins=bins)\n",
    "\n",
    "    result_raw = {}\n",
    "    for group in franchise_group:\n",
    "        density_list = []\n",
    "        for i in range(bins):\n",
    "            partialpartial = partial[partial['MRC_ID_DI'] == group]\n",
    "            density = (len(partialpartial[\n",
    "                (partialpartial[var] >= quantiles[i]) & \n",
    "                (partialpartial[var] <= quantiles[i + 1])\n",
    "            ]) / frenchiseFreq[group])\n",
    "            density_list.append(density)\n",
    "        result_raw[group] = density_list\n",
    "\n",
    "    result = (pd.melt(\n",
    "        (pd.DataFrame(result_raw)\n",
    "         .reset_index()\n",
    "         .rename({'index':'interval_Id'}, axis=1))\n",
    "        , id_vars='interval_Id')\n",
    "                  .rename({'variable':'MRC_ID_DI', 'value':'density'}, axis=1))\n",
    "\n",
    "    plt.figure(figsize=figsize)\n",
    "    sns.barplot(x='interval_Id', y='density', hue='MRC_ID_DI', data=result,\n",
    "               palette=sns.color_palette(\"Paired\"))\n",
    "    plt.title('Density for each Franchise')\n",
    "    plt.show()\n",
    "    return result"
   ]
  },
  {
   "cell_type": "markdown",
   "metadata": {},
   "source": [
    "> 예: VAR084  \n",
    "    - 가맹점 미이용 고객(MRC_ID_DI=0)의 경우 구간 0에 압도적으로 많이 분포함  \n",
    "    - 가맹점 10의 경우 구간 0, 4, 5에서 특히 많이 등장  \n",
    "    - 가맹점 8의 경우 구간 0에 대부분 분포되어있으나, 나머지 구간은 희미하게 분포  \n",
    "    - 가맹점 3은 구간 4에 가장 많이 분포되어있고, 다른 가맹점들에 비해서도 유독 많음 -> 구간 4가 가맹점 3의 특색 구간이라 볼 수 있음"
   ]
  },
  {
   "cell_type": "code",
   "execution_count": 617,
   "metadata": {},
   "outputs": [
    {
     "data": {
      "image/png": "[encoded data removed]",
      "text/plain": [
       "<Figure size 1152x432 with 1 Axes>"
      ]
     },
     "metadata": {},
     "output_type": "display_data"
    },
    {
     "data": {
      "text/html": [
       "<div>\n",
       "<style scoped>\n",
       "    .dataframe tbody tr th:only-of-type {\n",
       "        vertical-align: middle;\n",
       "    }\n",
       "\n",
       "    .dataframe tbody tr th {\n",
       "        vertical-align: top;\n",
       "    }\n",
       "\n",
       "    .dataframe thead th {\n",
       "        text-align: right;\n",
       "    }\n",
       "</style>\n",
       "<table border=\"1\" class=\"dataframe\">\n",
       "  <thead>\n",
       "    <tr style=\"text-align: right;\">\n",
       "      <th></th>\n",
       "      <th>interval_Id</th>\n",
       "      <th>MRC_ID_DI</th>\n",
       "      <th>density</th>\n",
       "    </tr>\n",
       "  </thead>\n",
       "  <tbody>\n",
       "    <tr>\n",
       "      <th>0</th>\n",
       "      <td>0</td>\n",
       "      <td>1</td>\n",
       "      <td>0.717647</td>\n",
       "    </tr>\n",
       "    <tr>\n",
       "      <th>1</th>\n",
       "      <td>1</td>\n",
       "      <td>1</td>\n",
       "      <td>0.000000</td>\n",
       "    </tr>\n",
       "    <tr>\n",
       "      <th>2</th>\n",
       "      <td>2</td>\n",
       "      <td>1</td>\n",
       "      <td>0.000000</td>\n",
       "    </tr>\n",
       "    <tr>\n",
       "      <th>3</th>\n",
       "      <td>3</td>\n",
       "      <td>1</td>\n",
       "      <td>0.094118</td>\n",
       "    </tr>\n",
       "    <tr>\n",
       "      <th>4</th>\n",
       "      <td>4</td>\n",
       "      <td>1</td>\n",
       "      <td>0.117647</td>\n",
       "    </tr>\n",
       "  </tbody>\n",
       "</table>\n",
       "</div>"
      ],
      "text/plain": [
       "   interval_Id MRC_ID_DI   density\n",
       "0            0         1  0.717647\n",
       "1            1         1  0.000000\n",
       "2            2         1  0.000000\n",
       "3            3         1  0.094118\n",
       "4            4         1  0.117647"
      ]
     },
     "execution_count": 617,
     "metadata": {},
     "output_type": "execute_result"
    }
   ],
   "source": [
    "temp = showFranchiseDensity(var_num=84, franchise_group=range(1,11))\n",
    "temp.head()"
   ]
  },
  {
   "cell_type": "code",
   "execution_count": 618,
   "metadata": {},
   "outputs": [
    {
     "data": {
      "image/png": "[encoded data removed]",
      "text/plain": [
       "<Figure size 1152x432 with 1 Axes>"
      ]
     },
     "metadata": {},
     "output_type": "display_data"
    },
    {
     "data": {
      "text/html": [
       "<div>\n",
       "<style scoped>\n",
       "    .dataframe tbody tr th:only-of-type {\n",
       "        vertical-align: middle;\n",
       "    }\n",
       "\n",
       "    .dataframe tbody tr th {\n",
       "        vertical-align: top;\n",
       "    }\n",
       "\n",
       "    .dataframe thead th {\n",
       "        text-align: right;\n",
       "    }\n",
       "</style>\n",
       "<table border=\"1\" class=\"dataframe\">\n",
       "  <thead>\n",
       "    <tr style=\"text-align: right;\">\n",
       "      <th></th>\n",
       "      <th>interval_Id</th>\n",
       "      <th>MRC_ID_DI</th>\n",
       "      <th>density</th>\n",
       "    </tr>\n",
       "  </thead>\n",
       "  <tbody>\n",
       "    <tr>\n",
       "      <th>0</th>\n",
       "      <td>0</td>\n",
       "      <td>1</td>\n",
       "      <td>0.011765</td>\n",
       "    </tr>\n",
       "    <tr>\n",
       "      <th>1</th>\n",
       "      <td>1</td>\n",
       "      <td>1</td>\n",
       "      <td>0.082353</td>\n",
       "    </tr>\n",
       "    <tr>\n",
       "      <th>2</th>\n",
       "      <td>2</td>\n",
       "      <td>1</td>\n",
       "      <td>0.494118</td>\n",
       "    </tr>\n",
       "    <tr>\n",
       "      <th>3</th>\n",
       "      <td>3</td>\n",
       "      <td>1</td>\n",
       "      <td>0.270588</td>\n",
       "    </tr>\n",
       "    <tr>\n",
       "      <th>4</th>\n",
       "      <td>4</td>\n",
       "      <td>1</td>\n",
       "      <td>0.117647</td>\n",
       "    </tr>\n",
       "  </tbody>\n",
       "</table>\n",
       "</div>"
      ],
      "text/plain": [
       "   interval_Id MRC_ID_DI   density\n",
       "0            0         1  0.011765\n",
       "1            1         1  0.082353\n",
       "2            2         1  0.494118\n",
       "3            3         1  0.270588\n",
       "4            4         1  0.117647"
      ]
     },
     "execution_count": 618,
     "metadata": {},
     "output_type": "execute_result"
    }
   ],
   "source": [
    "temp = showFranchiseDensity(var_num=4, franchise_group=range(1,11))\n",
    "temp.head()"
   ]
  },
  {
   "cell_type": "code",
   "execution_count": 619,
   "metadata": {},
   "outputs": [
    {
     "data": {
      "image/png": "[encoded data removed]",
      "text/plain": [
       "<Figure size 1152x432 with 1 Axes>"
      ]
     },
     "metadata": {},
     "output_type": "display_data"
    },
    {
     "data": {
      "text/html": [
       "<div>\n",
       "<style scoped>\n",
       "    .dataframe tbody tr th:only-of-type {\n",
       "        vertical-align: middle;\n",
       "    }\n",
       "\n",
       "    .dataframe tbody tr th {\n",
       "        vertical-align: top;\n",
       "    }\n",
       "\n",
       "    .dataframe thead th {\n",
       "        text-align: right;\n",
       "    }\n",
       "</style>\n",
       "<table border=\"1\" class=\"dataframe\">\n",
       "  <thead>\n",
       "    <tr style=\"text-align: right;\">\n",
       "      <th></th>\n",
       "      <th>interval_Id</th>\n",
       "      <th>MRC_ID_DI</th>\n",
       "      <th>density</th>\n",
       "    </tr>\n",
       "  </thead>\n",
       "  <tbody>\n",
       "    <tr>\n",
       "      <th>0</th>\n",
       "      <td>0</td>\n",
       "      <td>1</td>\n",
       "      <td>0.000000</td>\n",
       "    </tr>\n",
       "    <tr>\n",
       "      <th>1</th>\n",
       "      <td>1</td>\n",
       "      <td>1</td>\n",
       "      <td>0.070588</td>\n",
       "    </tr>\n",
       "    <tr>\n",
       "      <th>2</th>\n",
       "      <td>2</td>\n",
       "      <td>1</td>\n",
       "      <td>0.882353</td>\n",
       "    </tr>\n",
       "    <tr>\n",
       "      <th>3</th>\n",
       "      <td>3</td>\n",
       "      <td>1</td>\n",
       "      <td>0.035294</td>\n",
       "    </tr>\n",
       "    <tr>\n",
       "      <th>4</th>\n",
       "      <td>4</td>\n",
       "      <td>1</td>\n",
       "      <td>0.000000</td>\n",
       "    </tr>\n",
       "  </tbody>\n",
       "</table>\n",
       "</div>"
      ],
      "text/plain": [
       "   interval_Id MRC_ID_DI   density\n",
       "0            0         1  0.000000\n",
       "1            1         1  0.070588\n",
       "2            2         1  0.882353\n",
       "3            3         1  0.035294\n",
       "4            4         1  0.000000"
      ]
     },
     "execution_count": 619,
     "metadata": {},
     "output_type": "execute_result"
    }
   ],
   "source": [
    "temp = showFranchiseDensity(var_num=20, franchise_group=range(1,11))\n",
    "temp.head()"
   ]
  },
  {
   "cell_type": "markdown",
   "metadata": {},
   "source": [
    "각 구간의 가맹점별 Density 분포로부터 분산을 구하고, 분산이 높은 변수를 추출해보면 좋을듯?"
   ]
  },
  {
   "cell_type": "code",
   "execution_count": 615,
   "metadata": {},
   "outputs": [],
   "source": [
    "def FranchiseLabeling(num=1, dropID=True):\n",
    "    '''각 가맹점 별로 학습 환경을 조성하기 위한 함수\n",
    "    franchise_num: 레이블링 기준이 될 가맹점 번호\n",
    "    dropID: 고객ID를 제거할지 여부'''\n",
    "    temp = samp_cst_feat.merge(samp_train, how='left', on='cst_id_di')\n",
    "    idx = temp[temp['MRC_ID_DI'] == franchise_num].index\n",
    "    temp['MRC_ID_DI'] = 0\n",
    "    temp.loc[idx, 'MRC_ID_DI'] = 1\n",
    "    print(f'가맹점 Category: {num}')\n",
    "    print(f'회원ID 컬럼 제거 여부: {dropID}')\n",
    "    if dropID:\n",
    "        return temp\n",
    "    return temp"
   ]
  }
 ],
 "metadata": {
  "kernelspec": {
   "display_name": "Python 3",
   "language": "python",
   "name": "python3"
  },
  "language_info": {
   "codemirror_mode": {
    "name": "ipython",
    "version": 3
   },
   "file_extension": ".py",
   "mimetype": "text/x-python",
   "name": "python",
   "nbconvert_exporter": "python",
   "pygments_lexer": "ipython3",
   "version": "3.6.10"
  }
 },
 "nbformat": 4,
 "nbformat_minor": 4
}
