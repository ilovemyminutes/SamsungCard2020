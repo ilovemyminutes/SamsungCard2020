{
 "cells": [
  {
   "cell_type": "markdown",
   "metadata": {},
   "source": [
    "## GMM Preprocessing\n",
    "sep 04 2020"
   ]
  },
  {
   "cell_type": "code",
   "execution_count": 1,
   "metadata": {
    "ExecuteTime": {
     "end_time": "2020-09-04T16:20:04.565972Z",
     "start_time": "2020-09-04T16:20:02.127108Z"
    }
   },
   "outputs": [],
   "source": [
    "import os, glob\n",
    "import warnings\n",
    "\n",
    "import numpy as np\n",
    "import pandas as pd\n",
    "import seaborn as sns\n",
    "import matplotlib.pyplot as plt\n",
    "import matplotlib.font_manager as fm\n",
    "import matplotlib as mpl\n",
    "\n",
    "plt.style.use('seaborn')\n",
    "plt.rcParams[\"font.family\"] = 'NanumGothic'\n",
    "plt.rc('font', family='NanumGothic')\n",
    "mpl.rcParams['axes.unicode_minus'] = False\n",
    "%matplotlib inline"
   ]
  },
  {
   "cell_type": "code",
   "execution_count": 2,
   "metadata": {
    "ExecuteTime": {
     "end_time": "2020-09-04T16:20:06.743362Z",
     "start_time": "2020-09-04T16:20:04.570967Z"
    }
   },
   "outputs": [
    {
     "name": "stdout",
     "output_type": "stream",
     "text": [
      "Load mrc_info\n",
      "Load samp_train\n",
      "Load samp_cst_feat\n",
      "Load variable_dtype\n"
     ]
    }
   ],
   "source": [
    "pathList = glob.glob('../data/provided/*')\n",
    "for idx, p in enumerate(pathList[:4]):\n",
    "    name = p.split(' ')[-1].split('.')[0]\n",
    "    print(f'Load {name}')\n",
    "    if idx < 3:\n",
    "        globals()[name] = pd.read_csv(p, engine='python')\n",
    "    else:\n",
    "        globals()[name] = pd.read_excel(p)"
   ]
  },
  {
   "cell_type": "markdown",
   "metadata": {},
   "source": [
    "## Gaussian Mixture Model\n",
    "- Feature Engineering\n",
    "    - GMM을 이용하여 연속형 변수를 명목형 변수로 변환\n",
    "    - 가정 :\n",
    "        - 각 변수는 가맹점 이용 / 미이용 두가지의 분포가 이루어져 있을것\n",
    "        - Best `BIC Score`을 갖는 변수를 선택하여 모델링에 사용\n",
    "    - Best K가 2일 경우 파생 변수 후보로 선택"
   ]
  },
  {
   "cell_type": "markdown",
   "metadata": {},
   "source": [
    "----\n",
    "## Example : Histogram & Result of Var005"
   ]
  },
  {
   "cell_type": "code",
   "execution_count": 3,
   "metadata": {
    "ExecuteTime": {
     "end_time": "2020-09-04T16:20:06.917423Z",
     "start_time": "2020-09-04T16:20:06.744995Z"
    },
    "scrolled": true
   },
   "outputs": [
    {
     "data": {
      "image/png": "[encoded data removed]",
      "text/plain": [
       "<Figure size 432x288 with 1 Axes>"
      ]
     },
     "metadata": {
      "needs_background": "light"
     },
     "output_type": "display_data"
    }
   ],
   "source": [
    "plt.hist(samp_cst_feat.VAR005, width=0.1)\n",
    "plt.title('Var005 Histogram')\n",
    "plt.show()"
   ]
  },
  {
   "cell_type": "code",
   "execution_count": 4,
   "metadata": {
    "ExecuteTime": {
     "end_time": "2020-09-04T16:20:08.823480Z",
     "start_time": "2020-09-04T16:20:06.921441Z"
    },
    "scrolled": false
   },
   "outputs": [
    {
     "data": {
      "image/png": "[encoded data removed]",
      "text/plain": [
       "<Figure size 1296x360 with 4 Axes>"
      ]
     },
     "metadata": {
      "needs_background": "light"
     },
     "output_type": "display_data"
    }
   ],
   "source": [
    "from sklearn.mixture import GaussianMixture\n",
    "X = samp_cst_feat.VAR005.values.reshape(-1,1)\n",
    "\n",
    "f, ax = plt.subplots(1, 4, figsize=(18,5))\n",
    "plt.subplots_adjust(hspace = 1, wspace = 1)\n",
    "\n",
    "for i,j in enumerate([2,3,4,5]):\n",
    "    GMM = GaussianMixture(n_components=j)\n",
    "    prediction = GMM.fit_predict(X)\n",
    "    \n",
    "    ax[i].hist(prediction)\n",
    "    ax[i].set_title(GMM.bic(X).round(2))\n",
    "    \n",
    "    \n",
    "plt.show()"
   ]
  },
  {
   "cell_type": "markdown",
   "metadata": {},
   "source": [
    "## Var Selection\n",
    "연속형 변수에 대해서 각 변수에 대한 gmm clustering"
   ]
  },
  {
   "cell_type": "code",
   "execution_count": 5,
   "metadata": {
    "ExecuteTime": {
     "end_time": "2020-09-04T16:21:13.367274Z",
     "start_time": "2020-09-04T16:20:08.826265Z"
    },
    "scrolled": true
   },
   "outputs": [
    {
     "name": "stdout",
     "output_type": "stream",
     "text": [
      "gmm clustering :VAR002\n",
      "gmm clustering :VAR025\n",
      "gmm clustering :VAR046\n",
      "gmm clustering :VAR069\n",
      "gmm clustering :VAR093\n",
      "gmm clustering :VAR119\n",
      "gmm clustering :VAR141\n",
      "gmm clustering :VAR166\n",
      "gmm clustering :VAR188\n",
      "gmm clustering :VAR210\n"
     ]
    }
   ],
   "source": [
    "# 연속형 변수 리스트\n",
    "varNums = variable_dtype[variable_dtype['dType']=='numerical']['Variable_Name'].tolist()\n",
    "\n",
    "# warning 로그 제거\n",
    "with warnings.catch_warnings():\n",
    "    warnings.simplefilter(\"ignore\") \n",
    "    \n",
    "    Gmm_df = pd.DataFrame() # Cluster Prediction Result\n",
    "    Gmm_Var_list = []\n",
    "    K_list = [1,2,3,4,5]\n",
    "    \n",
    "    for i,var in enumerate(varNums):        \n",
    "        if i % 20 == 0:\n",
    "            print(f'gmm clustering :{var}')\n",
    "            \n",
    "        X = samp_cst_feat[var].values.reshape(-1,1)        \n",
    "        BIC_Score = {}\n",
    "\n",
    "        for i,j in enumerate(K_list):\n",
    "            GMM = GaussianMixture(n_components=j, random_state=21)\n",
    "            GMM.fit(X)\n",
    "            BIC_Score[j] = GMM.bic(X)\n",
    "        \n",
    "        \n",
    "        MaxScore_K = [k for k, v in BIC_Score.items() if v == min(BIC_Score.values())]\n",
    "        Best_GMM = GaussianMixture(n_components = MaxScore_K[0])\n",
    "        Gmm_df['gmm'+ var] = Best_GMM.fit_predict(X)\n",
    "\n",
    "        if MaxScore_K[0] == 2:\n",
    "            Gmm_Var_list.append(var)\n"
   ]
  },
  {
   "cell_type": "markdown",
   "metadata": {},
   "source": [
    "## GMM Cluster K=2"
   ]
  },
  {
   "cell_type": "markdown",
   "metadata": {},
   "source": [
    "군집을 두가지로 나눌때 BIC 스코어가 가장 낮은 K 가 2인 변수를 선택"
   ]
  },
  {
   "cell_type": "code",
   "execution_count": 6,
   "metadata": {
    "ExecuteTime": {
     "end_time": "2020-09-04T16:21:13.383331Z",
     "start_time": "2020-09-04T16:21:13.370185Z"
    }
   },
   "outputs": [
    {
     "name": "stdout",
     "output_type": "stream",
     "text": [
      "['VAR024', 'VAR040', 'VAR041', 'VAR048', 'VAR055', 'VAR081', 'VAR087', 'VAR101', 'VAR121', 'VAR125', 'VAR133', 'VAR159', 'VAR161', 'VAR170', 'VAR188', 'VAR190'] \n",
      "\n",
      "var count : 16\n"
     ]
    }
   ],
   "source": [
    "print(Gmm_Var_list ,'\\n')\n",
    "print(f'var count : {len(Gmm_Var_list)}')"
   ]
  },
  {
   "cell_type": "code",
   "execution_count": 7,
   "metadata": {
    "ExecuteTime": {
     "end_time": "2020-09-04T16:21:15.712339Z",
     "start_time": "2020-09-04T16:21:13.387331Z"
    }
   },
   "outputs": [
    {
     "data": {
      "image/png": "[encoded data removed]",
      "text/plain": [
       "<Figure size 1296x360 with 18 Axes>"
      ]
     },
     "metadata": {
      "needs_background": "light"
     },
     "output_type": "display_data"
    }
   ],
   "source": [
    "f, ax = plt.subplots(3,6, figsize=(18,5))\n",
    "plt.subplots_adjust(hspace = 1, wspace = 1)\n",
    "\n",
    "for i,var in enumerate(Gmm_Var_list):\n",
    "    ax[i//6,i%6].hist(samp_cst_feat.loc[:,var])"
   ]
  },
  {
   "cell_type": "markdown",
   "metadata": {},
   "source": [
    "*뭔가 두개의 정규분포가 합쳐진것 같기도 하고.. 모르겠네*"
   ]
  },
  {
   "cell_type": "markdown",
   "metadata": {},
   "source": [
    "## Cluster Prediction Result\n",
    "군집화를 통해 범주형 변수로 변환한 연속형 변수를 DataFrame 형식으로 저장"
   ]
  },
  {
   "cell_type": "code",
   "execution_count": 8,
   "metadata": {
    "ExecuteTime": {
     "end_time": "2020-09-04T16:21:18.004645Z",
     "start_time": "2020-09-04T16:21:15.716341Z"
    }
   },
   "outputs": [],
   "source": [
    "Gmm_df.index = samp_cst_feat.cst_id_di\n",
    "Gmm_df.to_csv('gmm_cluster_result.csv',index=True)"
   ]
  }
 ],
 "metadata": {
  "hide_input": false,
  "kernelspec": {
   "display_name": "Python 3",
   "language": "python",
   "name": "python3"
  },
  "language_info": {
   "codemirror_mode": {
    "name": "ipython",
    "version": 3
   },
   "file_extension": ".py",
   "mimetype": "text/x-python",
   "name": "python",
   "nbconvert_exporter": "python",
   "pygments_lexer": "ipython3",
   "version": "3.6.10"
  },
  "toc": {
   "base_numbering": 1,
   "nav_menu": {},
   "number_sections": true,
   "sideBar": true,
   "skip_h1_title": false,
   "title_cell": "Table of Contents",
   "title_sidebar": "Contents",
   "toc_cell": false,
   "toc_position": {
    "height": "632.5px",
    "left": "44px",
    "top": "85.964px",
    "width": "304.492px"
   },
   "toc_section_display": true,
   "toc_window_display": true
  },
  "varInspector": {
   "cols": {
    "lenName": 16,
    "lenType": 16,
    "lenVar": 40
   },
   "kernels_config": {
    "python": {
     "delete_cmd_postfix": "",
     "delete_cmd_prefix": "del ",
     "library": "var_list.py",
     "varRefreshCmd": "print(var_dic_list())"
    },
    "r": {
     "delete_cmd_postfix": ") ",
     "delete_cmd_prefix": "rm(",
     "library": "var_list.r",
     "varRefreshCmd": "cat(var_dic_list()) "
    }
   },
   "oldHeight": 122.49983400000002,
   "position": {
    "height": "143.476px",
    "left": "1055.49px",
    "right": "20px",
    "top": "189.979px",
    "width": "326.016px"
   },
   "types_to_exclude": [
    "module",
    "function",
    "builtin_function_or_method",
    "instance",
    "_Feature"
   ],
   "varInspector_section_display": "block",
   "window_display": true
  }
 },
 "nbformat": 4,
 "nbformat_minor": 4
}
