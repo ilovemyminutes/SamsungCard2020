{
 "cells": [
  {
   "cell_type": "markdown",
   "metadata": {},
   "source": [
    "# SMOTE - Oversampling\n",
    "Sep 18, 2020"
   ]
  },
  {
   "cell_type": "code",
   "execution_count": 1,
   "metadata": {
    "ExecuteTime": {
     "end_time": "2020-09-18T07:50:48.201036Z",
     "start_time": "2020-09-18T07:50:46.834109Z"
    }
   },
   "outputs": [],
   "source": [
    "import os, glob\n",
    "\n",
    "import numpy as np\n",
    "import pandas as pd\n",
    "import seaborn as sns\n",
    "import matplotlib.pyplot as plt\n",
    "import matplotlib.font_manager as fm\n",
    "import matplotlib as mpl\n",
    "\n",
    "plt.style.use('seaborn')\n",
    "mpl.rcParams['axes.unicode_minus'] = False\n",
    "\n",
    "from matplotlib import font_manager, rc\n",
    "font_name = font_manager.FontProperties(fname=\"c:/Windows/Fonts/malgun.ttf\").get_name()\n",
    "rc('font', family=font_name)\n",
    "\n",
    "%matplotlib inline"
   ]
  },
  {
   "cell_type": "markdown",
   "metadata": {},
   "source": [
    "## Track 1"
   ]
  },
  {
   "cell_type": "markdown",
   "metadata": {},
   "source": [
    "mrc_info: 온라인 가맹점 업종 정보  \n",
    "samp_train: 회원의 1월달 온라인 가맹점 이용여부 데이터  \n",
    "samp_cst_feat: 회원 특성 정보  \n",
    "variable_dtype: 변수 데이터 타입 정보(메타 데이터)  "
   ]
  },
  {
   "cell_type": "code",
   "execution_count": 4,
   "metadata": {
    "ExecuteTime": {
     "end_time": "2020-09-18T07:51:21.250525Z",
     "start_time": "2020-09-18T07:51:19.617638Z"
    },
    "hidden": true
   },
   "outputs": [
    {
     "name": "stdout",
     "output_type": "stream",
     "text": [
      "Load mrc_info\n",
      "Load samp_train\n",
      "Load samp_cst_feat\n",
      "Load variable_dtype\n"
     ]
    }
   ],
   "source": [
    "pathList = glob.glob('../raw/*')\n",
    "for idx, p in enumerate(pathList[:4]):\n",
    "    name = p.split(' ')[-1].split('.')[0]\n",
    "    print(f'Load {name}')\n",
    "    if idx < 3:\n",
    "        globals()[name] = pd.read_csv(p, engine='python')\n",
    "    else:\n",
    "        globals()[name] = pd.read_excel(p)"
   ]
  },
  {
   "cell_type": "markdown",
   "metadata": {},
   "source": [
    "### samp_train\n",
    "회원의 1월달 온라인 가맹점 이용여부 데이터\n",
    "  \n",
    "  \n",
    "  \n",
    "<u>Description</u>  \n",
    "> cst_id_di: 고객관리번호(고객 식별 ID)  \n",
    "MRC_ID_DI: 온라인 가맹점 번호(0: 온라인 가맹점 미이용)"
   ]
  },
  {
   "cell_type": "markdown",
   "metadata": {},
   "source": [
    "#### 온라인 가맹점 별 고객 이용 Frequency"
   ]
  },
  {
   "cell_type": "code",
   "execution_count": 5,
   "metadata": {
    "ExecuteTime": {
     "end_time": "2020-09-18T07:51:23.784618Z",
     "start_time": "2020-09-18T07:51:23.507541Z"
    },
    "hidden": true
   },
   "outputs": [
    {
     "data": {
      "text/plain": [
       "Text(0.5, 0.98, '온라인 가맹점별 고객 이용 Frequency')"
      ]
     },
     "execution_count": 5,
     "metadata": {},
     "output_type": "execute_result"
    },
    {
     "data": {
      "image/png": "[encoded data removed]",
      "text/plain": [
       "<Figure size 720x360 with 1 Axes>"
      ]
     },
     "metadata": {
      "needs_background": "light"
     },
     "output_type": "display_data"
    }
   ],
   "source": [
    "plt.figure(figsize=(10,5))\n",
    "sns.countplot('MRC_ID_DI', data=samp_train)\n",
    "plt.title('0: 온라인 가맹점 미이용')\n",
    "plt.suptitle('온라인 가맹점별 고객 이용 Frequency')"
   ]
  },
  {
   "cell_type": "code",
   "execution_count": 6,
   "metadata": {
    "ExecuteTime": {
     "end_time": "2020-09-18T07:51:24.705545Z",
     "start_time": "2020-09-18T07:51:24.555637Z"
    },
    "hidden": true
   },
   "outputs": [
    {
     "data": {
      "text/plain": [
       "Text(0.5, 0.98, '온라인 가맹점 이용 여부 Frequency')"
      ]
     },
     "execution_count": 6,
     "metadata": {},
     "output_type": "execute_result"
    },
    {
     "data": {
      "image/png": "[encoded data removed]",
      "text/plain": [
       "<Figure size 720x360 with 1 Axes>"
      ]
     },
     "metadata": {
      "needs_background": "light"
     },
     "output_type": "display_data"
    }
   ],
   "source": [
    "plt.figure(figsize=(10,5))\n",
    "sns.countplot((samp_train['MRC_ID_DI'] == 0))\n",
    "plt.xticks([0, 1], ['이용해보았다', '이용해보지 않았다'])\n",
    "plt.suptitle('온라인 가맹점 이용 여부 Frequency')"
   ]
  },
  {
   "cell_type": "markdown",
   "metadata": {},
   "source": [
    "온라인 가맹점을 사용해보지 않은 고객이 압도적으로 많음  \n",
    "=> 불균형 데이터에 대해 Oversampling 필요"
   ]
  },
  {
   "cell_type": "markdown",
   "metadata": {},
   "source": [
    "가맹점 이용 빈도 수는 7 > 6 >> 8 >> 5 ... 순으로 높다"
   ]
  },
  {
   "cell_type": "markdown",
   "metadata": {},
   "source": [
    "## SMOTE 기법을 활용한 Oversampling"
   ]
  },
  {
   "cell_type": "markdown",
   "metadata": {},
   "source": [
    "- SMOTE 개요\n",
    "![SMOTE](https://raw.githubusercontent.com/rafjaa/machine_learning_fecib/master/src/static/img/smote.png)"
   ]
  },
  {
   "cell_type": "markdown",
   "metadata": {},
   "source": [
    "## SMOTE 이전의 모델 성능 평가"
   ]
  },
  {
   "cell_type": "code",
   "execution_count": 16,
   "metadata": {
    "ExecuteTime": {
     "end_time": "2020-09-18T07:59:10.128020Z",
     "start_time": "2020-09-18T07:59:09.913623Z"
    }
   },
   "outputs": [],
   "source": [
    "df = samp_cst_feat.merge(samp_train,on='cst_id_di')"
   ]
  },
  {
   "cell_type": "code",
   "execution_count": 35,
   "metadata": {
    "ExecuteTime": {
     "end_time": "2020-09-18T08:05:39.230729Z",
     "start_time": "2020-09-18T08:05:39.181692Z"
    }
   },
   "outputs": [],
   "source": [
    "from sklearn.model_selection import train_test_split\n",
    "X = df.iloc[:,:-1]\n",
    "y = df.iloc[:,-1]\n",
    "X_train, X_test, y_train, y_test = train_test_split(X,y,test_size=0.25,random_state=10)\n",
    "#모델링\n",
    "def modeling(model,x_train,x_test,y_train,y_test):\n",
    "    model.fit(x_train,y_train)\n",
    "    pred = model.predict(x_test)\n",
    "    metrics(y_test,pred)\n",
    "#평가 지표\n",
    "from sklearn.metrics import accuracy_score,precision_score,recall_score,f1_score,roc_auc_score\n",
    "def metrics(y_test,pred):\n",
    "    accuracy = accuracy_score(y_test,pred)\n",
    "    precision = precision_score(y_test,pred,average='micro')\n",
    "    recall = recall_score(y_test,pred,average='micro')\n",
    "    f1 = f1_score(y_test,pred,average='micro')\n",
    "\n",
    "    print('정확도 : {0:.2f}, 정밀도 : {1:.2f}, 재현율 : {2:.2f}'.format(accuracy,precision,recall))"
   ]
  },
  {
   "cell_type": "markdown",
   "metadata": {},
   "source": [
    "### 로지스틱 모델 "
   ]
  },
  {
   "cell_type": "code",
   "execution_count": 36,
   "metadata": {
    "ExecuteTime": {
     "end_time": "2020-09-18T08:05:40.276461Z",
     "start_time": "2020-09-18T08:05:39.769757Z"
    }
   },
   "outputs": [
    {
     "name": "stdout",
     "output_type": "stream",
     "text": [
      "정확도 : 0.81, 정밀도 : 0.81, 재현율 : 0.81\n"
     ]
    }
   ],
   "source": [
    "from sklearn.linear_model import LogisticRegression\n",
    "lr = LogisticRegression()\n",
    "modeling(lr,X_train,X_test,y_train,y_test)"
   ]
  },
  {
   "cell_type": "markdown",
   "metadata": {},
   "source": [
    "### Light gbm 모델"
   ]
  },
  {
   "cell_type": "code",
   "execution_count": 48,
   "metadata": {
    "ExecuteTime": {
     "end_time": "2020-09-18T08:13:16.176380Z",
     "start_time": "2020-09-18T08:12:44.237648Z"
    }
   },
   "outputs": [
    {
     "name": "stdout",
     "output_type": "stream",
     "text": [
      "정확도 : 0.80, 정밀도 : 0.80, 재현율 : 0.80\n"
     ]
    }
   ],
   "source": [
    "from lightgbm import LGBMClassifier\n",
    "lgb = LGBMClassifier(n_estimators=100,n_jobs=-1,boost_from_average=False,random_state=1)\n",
    "modeling(lgb,X_train,X_test,y_train,y_test)"
   ]
  },
  {
   "cell_type": "markdown",
   "metadata": {},
   "source": [
    "## SMOTE 적용 후 모델 평가"
   ]
  },
  {
   "cell_type": "code",
   "execution_count": 94,
   "metadata": {
    "ExecuteTime": {
     "end_time": "2020-09-18T08:42:09.186821Z",
     "start_time": "2020-09-18T08:42:08.284695Z"
    }
   },
   "outputs": [
    {
     "name": "stdout",
     "output_type": "stream",
     "text": [
      "SMOTE 적용 전 학습용 피처/레이블 데이터 세트:  (7593, 227) (7593,)\n",
      "SMOTE 적용 후 학습용 피처/레이블 데이터 세트:  (67771, 227) (67771,)\n",
      "SMOTE 적용 후 레이블 값 분포: \n",
      " 0     6161\n",
      "1     6161\n",
      "2     6161\n",
      "3     6161\n",
      "4     6161\n",
      "5     6161\n",
      "6     6161\n",
      "7     6161\n",
      "8     6161\n",
      "9     6161\n",
      "10    6161\n",
      "Name: MRC_ID_DI, dtype: int64\n"
     ]
    }
   ],
   "source": [
    "from imblearn.over_sampling import SMOTE\n",
    "smote = SMOTE(random_state=0)\n",
    "X_train_over,y_train_over = smote.fit_sample(X_train,y_train)\n",
    "\n",
    "print('SMOTE 적용 전 학습용 피처/레이블 데이터 세트: ', X_train.shape, y_train.shape)\n",
    "print('SMOTE 적용 후 학습용 피처/레이블 데이터 세트: ', X_train_over.shape, y_train_over.shape)\n",
    "print('SMOTE 적용 후 레이블 값 분포: \\n', pd.Series(y_train_over).value_counts(ascending=True))"
   ]
  },
  {
   "cell_type": "markdown",
   "metadata": {},
   "source": [
    "### 분포 변화 살펴보기"
   ]
  },
  {
   "cell_type": "code",
   "execution_count": 81,
   "metadata": {
    "ExecuteTime": {
     "end_time": "2020-09-18T08:25:23.013961Z",
     "start_time": "2020-09-18T08:25:22.825616Z"
    },
    "hidden": true
   },
   "outputs": [
    {
     "data": {
      "text/plain": [
       "Text(0.5, 0.98, '  불균형 데이터 처리 by SMOTE')"
      ]
     },
     "execution_count": 81,
     "metadata": {},
     "output_type": "execute_result"
    },
    {
     "data": {
      "image/png": "[encoded data removed]",
      "text/plain": [
       "<Figure size 576x360 with 1 Axes>"
      ]
     },
     "metadata": {
      "needs_background": "light"
     },
     "output_type": "display_data"
    }
   ],
   "source": [
    "plt.figure(figsize=(8,5))\n",
    "sns.countplot(y_train_over,palette='Accent')\n",
    "plt.title('온라인 가맹점별 고객 이용 Frequency')\n",
    "plt.suptitle('  불균형 데이터 처리 by SMOTE')"
   ]
  },
  {
   "cell_type": "markdown",
   "metadata": {},
   "source": [
    "### 로지스틱 모델 SMOTE"
   ]
  },
  {
   "cell_type": "code",
   "execution_count": 91,
   "metadata": {
    "ExecuteTime": {
     "end_time": "2020-09-18T08:40:01.911737Z",
     "start_time": "2020-09-18T08:40:01.223274Z"
    }
   },
   "outputs": [
    {
     "name": "stdout",
     "output_type": "stream",
     "text": [
      "정확도 : 0.00, 정밀도 : 0.00, 재현율 : 0.00\n"
     ]
    }
   ],
   "source": [
    "lr = LogisticRegression()\n",
    "modeling(lr,X_train_over,X_test,y_train_over,y_test)"
   ]
  },
  {
   "cell_type": "code",
   "execution_count": 90,
   "metadata": {
    "ExecuteTime": {
     "end_time": "2020-09-18T08:36:58.409806Z",
     "start_time": "2020-09-18T08:34:54.696324Z"
    }
   },
   "outputs": [
    {
     "name": "stdout",
     "output_type": "stream",
     "text": [
      "정확도 : 0.79, 정밀도 : 0.79, 재현율 : 0.79\n"
     ]
    }
   ],
   "source": [
    "lgb = LGBMClassifier(n_estimators=100,num_leaves=64,n_jobs=-1,boost_from_average=False)\n",
    "modeling(lgb,X_train_over,X_test,y_train_over,y_test)"
   ]
  },
  {
   "cell_type": "markdown",
   "metadata": {},
   "source": [
    "..? 왜..?"
   ]
  }
 ],
 "metadata": {
  "hide_input": false,
  "kernelspec": {
   "display_name": "Python 3",
   "language": "python",
   "name": "python3"
  },
  "language_info": {
   "codemirror_mode": {
    "name": "ipython",
    "version": 3
   },
   "file_extension": ".py",
   "mimetype": "text/x-python",
   "name": "python",
   "nbconvert_exporter": "python",
   "pygments_lexer": "ipython3",
   "version": "3.6.10"
  },
  "toc": {
   "base_numbering": 1,
   "nav_menu": {},
   "number_sections": true,
   "sideBar": true,
   "skip_h1_title": false,
   "title_cell": "Table of Contents",
   "title_sidebar": "Contents",
   "toc_cell": false,
   "toc_position": {},
   "toc_section_display": true,
   "toc_window_display": true
  },
  "varInspector": {
   "cols": {
    "lenName": 16,
    "lenType": 16,
    "lenVar": 40
   },
   "kernels_config": {
    "python": {
     "delete_cmd_postfix": "",
     "delete_cmd_prefix": "del ",
     "library": "var_list.py",
     "varRefreshCmd": "print(var_dic_list())"
    },
    "r": {
     "delete_cmd_postfix": ") ",
     "delete_cmd_prefix": "rm(",
     "library": "var_list.r",
     "varRefreshCmd": "cat(var_dic_list()) "
    }
   },
   "position": {
    "height": "253px",
    "left": "1405px",
    "right": "20px",
    "top": "120px",
    "width": "352px"
   },
   "types_to_exclude": [
    "module",
    "function",
    "builtin_function_or_method",
    "instance",
    "_Feature"
   ],
   "window_display": true
  }
 },
 "nbformat": 4,
 "nbformat_minor": 4
}
