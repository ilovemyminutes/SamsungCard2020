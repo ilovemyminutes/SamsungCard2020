{
 "cells": [
  {
   "cell_type": "code",
   "execution_count": null,
   "metadata": {},
   "outputs": [],
   "source": [
    "import os, glob\n",
    "import numpy as np\n",
    "import pandas as pd\n",
    "import seaborn as sns\n",
    "import matplotlib.pyplot as plt\n",
    "import matplotlib.font_manager as fm\n",
    "import matplotlib as mpl\n",
    "\n",
    "plt.style.use('seaborn')\n",
    "plt.rcParams[\"font.family\"] = 'NanumGothic'\n",
    "mpl.rcParams['axes.unicode_minus'] = False\n",
    "%matplotlib inline"
   ]
  },
  {
   "cell_type": "code",
   "execution_count": null,
   "metadata": {},
   "outputs": [],
   "source": [
    "data_path = '../raw/'\n",
    "trend_w_demo = pd.read_csv(data_path + '[Track2_데이터1] trend_w_demo.csv', engine='python')"
   ]
  },
  {
   "cell_type": "markdown",
   "metadata": {},
   "source": [
    "# 분석 개요\n",
    "\n",
    "- 목표\n",
    "    - SC에서는 무엇을 원하는가? : 팬데믹 시대를 극복할 마케팅 전략 수립\n",
    "        - 전년 대비 올해, 어떤 업종의 구매량이 어떤 고객군에서 증가 or 감소했는가?\n",
    "        - 그 중에서도 어떤 업종이 올해 두 달간 증감폭이 큰가?\n",
    "            - ex) 취미 업종의 구매량이 대학생 자녀를 둔 40대 남성에서 크게 증가했다. 특히, 월별 증가량 추이가 두드러진다.\n",
    "            - => 고객군 타겟 마케팅 전략 수립"
   ]
  },
  {
   "cell_type": "code",
   "execution_count": null,
   "metadata": {},
   "outputs": [],
   "source": [
    "train = trend_w_demo.copy()\n",
    "train = train.rename(columns = {\n",
    "    '성별구분':'Sex',\n",
    "    '연령대':'Age',\n",
    "    '기혼스코어':'Marriage',\n",
    "    '유아자녀스코어':'Youth',\n",
    "    '초등학생자녀스코어':'Elementary',\n",
    "    '중고생자녀스코어':'Mid-High',\n",
    "    '대학생자녀스코어':'University',\n",
    "    '전업주부스코어':'Housewife'\n",
    "    })\n",
    "\n",
    "tot_var_list = train.columns[2:].tolist()\n",
    "print(tot_var_list)"
   ]
  },
  {
   "cell_type": "markdown",
   "metadata": {},
   "source": [
    "# 고객군별 전체 구매량"
   ]
  },
  {
   "cell_type": "code",
   "execution_count": null,
   "metadata": {},
   "outputs": [],
   "source": [
    "def cnt_df_check(df_, var_list):\n",
    "    data = df_.copy()\n",
    "    output = data.groupby(['YM','Category'] + var_list)['YM'].count().to_frame('Value').reset_index()\n",
    "    return output\n",
    "\n",
    "def cnt_tf_series(series_):\n",
    "    data = series_.copy()    \n",
    "    srch_list = data.drop(index=['YM','Category','Value'])    \n",
    "    temp = []\n",
    "    for i in range(len(srch_list)):\n",
    "        temp.append(f'{str(srch_list.index[i])}={str(srch_list[i])}')\n",
    "    output = '|'.join(temp)\n",
    "    return output\n",
    "\n",
    "def cnt_tf_df(df_):\n",
    "    data = df_.copy()\n",
    "    data['Segment'] = data.apply(lambda x: cnt_tf_series(x), axis=1)\n",
    "    output = data[['Segment','Value']]\n",
    "    return output\n",
    "\n",
    "def cnt_funnel(df_, var_list):    \n",
    "    from itertools import combinations\n",
    "    data = df_.copy()\n",
    "    \n",
    "    output = pd.DataFrame()\n",
    "    for i in range(len(var_list)):\n",
    "        list_ = list(combinations(var_list, i+1))\n",
    "        for j in list_:            \n",
    "            temp = cnt_df_check(data, list(j))         \n",
    "            temp = cnt_tf_df(temp)\n",
    "            output = pd.concat([output, temp], axis=0, ignore_index=True)            \n",
    "    return output"
   ]
  },
  {
   "cell_type": "code",
   "execution_count": null,
   "metadata": {},
   "outputs": [],
   "source": [
    "cnt_table = cnt_funnel(train, tot_var_list)"
   ]
  },
  {
   "cell_type": "code",
   "execution_count": null,
   "metadata": {},
   "outputs": [],
   "source": [
    "print('중앙값:', cnt_table['Value'].median())\n",
    "valid_seg = cnt_table[cnt_table['Value']>=735]['Segment'].tolist()\n",
    "print('유효한 고객군의 수:', len(valid_seg))"
   ]
  },
  {
   "cell_type": "markdown",
   "metadata": {},
   "source": [
    "# 업종별 고객군별 증가량/증가율"
   ]
  },
  {
   "cell_type": "code",
   "execution_count": null,
   "metadata": {},
   "outputs": [],
   "source": [
    "def yoy_compare(df_, var_list):\n",
    "    data = df_.copy()\n",
    "    data['Year'] = data['YM'].apply(lambda x: 2020 if '2020' in str(x) else 2019)\n",
    "    temp = data.groupby(['Year','Category'] + var_list)['YM'].count().to_frame('Value')\n",
    "    output = round((temp.loc[2020] - temp.loc[2019])/temp.loc[2019] * 100, 2).reset_index()\n",
    "    return output\n",
    "\n",
    "def yoy_tf_series(series_):\n",
    "    data = series_.copy()    \n",
    "    srch_list = data.drop(index=['Category','Value'])\n",
    "    \n",
    "    var_list = []\n",
    "    for i in range(len(srch_list)):\n",
    "        var_list.append(f'{str(srch_list.index[i])}={str(srch_list[i])}')\n",
    "    \n",
    "    output = '|'.join(var_list)\n",
    "    return output\n",
    "\n",
    "def yoy_tf_df(_df, censor_list):\n",
    "    data = _df.copy()\n",
    "    data['Segment'] = data.apply(lambda x: yoy_tf_series(x), axis=1)\n",
    "    data['']\n",
    "    output = data[['Category','Segment','Value']]\n",
    "    return output\n",
    "\n",
    "def rate_funnel(df_, var_list, censor_list):\n",
    "    from itertools import combinations\n",
    "    data = df_.copy()\n",
    "\n",
    "    df = pd.DataFrame()\n",
    "    for i in range(len(var_list)):\n",
    "        list_ = list(combinations(var_list, i+1))\n",
    "        for j in list_:            \n",
    "            temp = yoy_compare(data, list(j))         \n",
    "            temp = yoy_tf_df(temp, censor_list)\n",
    "            df = pd.concat([df, temp], axis=0, ignore_index=True)\n",
    "        \n",
    "    df = df[df['Value'].notnull()]\n",
    "    df = df[df['Segment'].isin(censor_list)]\n",
    "    df = df.reset_index(drop=True)\n",
    "    \n",
    "    output = df.copy()\n",
    "    return output"
   ]
  },
  {
   "cell_type": "code",
   "execution_count": null,
   "metadata": {},
   "outputs": [],
   "source": [
    "rate_table = rate_funnel(train, tot_var_list, valid_seg)"
   ]
  },
  {
   "cell_type": "code",
   "execution_count": null,
   "metadata": {},
   "outputs": [],
   "source": [
    "rate_table.to_csv('./data/yoy_rate_table.csv', index=False)"
   ]
  }
 ],
 "metadata": {
  "kernelspec": {
   "display_name": "Python 3",
   "language": "python",
   "name": "python3"
  },
  "language_info": {
   "codemirror_mode": {
    "name": "ipython",
    "version": 3
   },
   "file_extension": ".py",
   "mimetype": "text/x-python",
   "name": "python",
   "nbconvert_exporter": "python",
   "pygments_lexer": "ipython3",
   "version": "3.6.10"
  },
  "toc": {
   "base_numbering": 1,
   "nav_menu": {},
   "number_sections": true,
   "sideBar": true,
   "skip_h1_title": false,
   "title_cell": "Table of Contents",
   "title_sidebar": "Contents",
   "toc_cell": false,
   "toc_position": {},
   "toc_section_display": true,
   "toc_window_display": false
  },
  "varInspector": {
   "cols": {
    "lenName": 16,
    "lenType": 16,
    "lenVar": 40
   },
   "kernels_config": {
    "python": {
     "delete_cmd_postfix": "",
     "delete_cmd_prefix": "del ",
     "library": "var_list.py",
     "varRefreshCmd": "print(var_dic_list())"
    },
    "r": {
     "delete_cmd_postfix": ") ",
     "delete_cmd_prefix": "rm(",
     "library": "var_list.r",
     "varRefreshCmd": "cat(var_dic_list()) "
    }
   },
   "position": {
    "height": "388px",
    "left": "1550px",
    "right": "20px",
    "top": "119px",
    "width": "350px"
   },
   "types_to_exclude": [
    "module",
    "function",
    "builtin_function_or_method",
    "instance",
    "_Feature"
   ],
   "window_display": false
  }
 },
 "nbformat": 4,
 "nbformat_minor": 4
}
